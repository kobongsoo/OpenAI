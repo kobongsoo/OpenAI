{
 "cells": [
  {
   "cell_type": "code",
   "execution_count": null,
   "id": "21012fcb-6149-40f6-b416-ac5f5d139061",
   "metadata": {},
   "outputs": [],
   "source": [
    "#------------------------------------------------------------------\n",
    "# 구글 bard 테스트\n",
    "# 세션키를 이용하여 구글 bard 테스트 예제\n",
    "# 출처 : https://github.com/dsdanielpark/Bard-API\n",
    "# !pip install git+https://github.com/dsdanielpark/Bard-API.git\n",
    "#\n",
    "# token 값얻기\n",
    "# https://bard.google.com/ 방문\n",
    "# 콘솔용 F12\n",
    "# 세션: 애플리케이션 → 쿠키 → 쿠키 값을 복사합니다 __Secure-1PSID.\n",
    "# -> 참고로 반드시 뒤에 .으로 끝나고 .포함해서 길이가 72자임.\n",
    "#------------------------------------------------------------------\n",
    "\n",
    "from bardapi import Bard\n",
    "import os\n",
    "\n",
    "# key.env 파일을 만들고, _BARD_API_KEY = sk_xxxx 식으로 입력하면됨.\n",
    "def load_bard_api_key():\n",
    "    # 1.env 파일 경로 설정\n",
    "    env_file_path = \"key.env\"\n",
    "    \n",
    "    # 파일이 존재하면 읽기 모드로 열기\n",
    "    if os.path.exists(env_file_path):\n",
    "        with open(env_file_path, \"r\") as file:\n",
    "            # 파일 내용 읽어오기\n",
    "            content = file.read().strip()\n",
    "\n",
    "            # 파일 내용에서 _BARD_API_KEY 환경변수 값을 가져오기\n",
    "            bard_api_key = None\n",
    "            for line in content.splitlines():\n",
    "                key, value = line.split(\"=\")\n",
    "                if key.strip() == \"_BARD_API_KEY\":\n",
    "                    bard_api_key = value.strip()\n",
    "                    break\n",
    "            \n",
    "            if bard_api_key is not None:\n",
    "                # 환경변수로 설정\n",
    "                os.environ[\"_BARD_API_KEY\"] = bard_api_key\n",
    "                print(\"Successfully loaded _BARD_API_KEY from key.env.\")\n",
    "            else:\n",
    "                print(\"_BARD_API_KEY not found in key.env.\")\n",
    "    else:\n",
    "        print(\"key.env file not found.\")\n",
    "\n",
    "# 환경변수 불러오기 호출\n",
    "load_bard_api_key()\n",
    "\n",
    "token= os.getenv(\"_BARD_API_KEY\")\n",
    "print(token)\n",
    "\n",
    "bard = Bard(token=token)\n",
    "bard.get_answer(\"나와 내 동년배들이 좋아하는 뉴진스에 대해서 알려줘\")['content']"
   ]
  },
  {
   "cell_type": "code",
   "execution_count": null,
   "id": "bd642093-a855-4772-85e2-12227912afa6",
   "metadata": {},
   "outputs": [],
   "source": [
    "os.getenv?"
   ]
  },
  {
   "cell_type": "code",
   "execution_count": null,
   "id": "dede8bec-caa5-4396-aaef-b57ce417656c",
   "metadata": {},
   "outputs": [],
   "source": [
    "# AC 사전을 얻기 위해\n",
    "import bardapi\n",
    "import os\n",
    "\n",
    "# set your __Secure-1PSID value to key\n",
    "\n",
    "# set your input text\n",
    "input_text = \"나와 내 동년배들이 좋아하는 뉴진스에 대해서 알려줘\"\n",
    "\n",
    "# Send an API request and get a response.\n",
    "response = bardapi.core.Bard(token).get_answer(input_text)\n",
    "\n",
    "response"
   ]
  },
  {
   "cell_type": "code",
   "execution_count": null,
   "id": "10db1032-237a-440a-a9d3-01f092dddd53",
   "metadata": {},
   "outputs": [],
   "source": [
    "# Google Colab 및 이와 같은 환경에서 지연된 응답으로 인해 발생하는 오류를 해결했습니다. \n",
    "# 적절한 절차를 따랐지만 그럼에도 불구하고 오류가 발생하면 timeout 인수를 활용하십시오.\n",
    "\n",
    "from bardapi import Bard\n",
    "import os\n",
    "os.environ['_BARD_API_KEY']=token\n",
    "\n",
    "bard = Bard(timeout=30) # Set timeout in seconds\n",
    "bard.get_answer(\"나와 내 동년배들이 좋아하는 뉴진스에 대해서 알려줘\")['content']"
   ]
  },
  {
   "cell_type": "code",
   "execution_count": null,
   "id": "a02dc597-1307-44dd-ba9d-9d1201449237",
   "metadata": {},
   "outputs": [],
   "source": [
    "bard = Bard(timeout=30) # Set timeout in seconds\n",
    "input_text = '''\n",
    "별표1 국내출장여비 \n",
    "임원 이상이면, 철도 운임은 실비(KTX특실), 선박운임은 실비(1등급), 항공운임은 실비(일반실), 자동차 운임은 실비로 지원함.\n",
    "임원 이상이면, 1일비는 20,000원 지원함.\n",
    "임원 이상이면, 숙박비는 1박당 실비로 지원함.\n",
    "임원 이상이면, 1일 식비는 25,000원 지원함.\n",
    "\n",
    "부장 이하이면, 철도 운임은 실비(KTX일반), 선박운임은 실비(2등급), 항공운임은 실비(일반실), 자동차 운임은 실비로 지원함.\n",
    "부장 이하이면, 1일비는 20,000원 지원함.\n",
    "부장 이하이면, 숙박비는 1박당 실비로 지원함. 단 서울특별시는 사항액이 70,000원, 광역시는 60,000원, 그 밖의 지역은 50,000원 임\n",
    "부장 이하이면, 1일 식비는 20,000원 지원함.\n",
    "\n",
    "위내용을 바탕으로 질문에 답변해주세요.\n",
    "질문 : 제주도에서 서울로 1박2일 출장을 가는데, 이때 출장비를 항목별로 정리해서 알려주세요.\n",
    "'''\n",
    "bard.get_answer(input_text)['content']"
   ]
  },
  {
   "cell_type": "code",
   "execution_count": null,
   "id": "9c1ef20b-7a53-44ba-a652-b75d5eb1fb1f",
   "metadata": {},
   "outputs": [],
   "source": []
  },
  {
   "cell_type": "code",
   "execution_count": null,
   "id": "faf5b709-a6df-4bb7-bfc8-1dba1f37c246",
   "metadata": {},
   "outputs": [],
   "source": []
  }
 ],
 "metadata": {
  "kernelspec": {
   "display_name": "Python 3 (ipykernel)",
   "language": "python",
   "name": "python3"
  },
  "language_info": {
   "codemirror_mode": {
    "name": "ipython",
    "version": 3
   },
   "file_extension": ".py",
   "mimetype": "text/x-python",
   "name": "python",
   "nbconvert_exporter": "python",
   "pygments_lexer": "ipython3",
   "version": "3.9.7"
  }
 },
 "nbformat": 4,
 "nbformat_minor": 5
}
