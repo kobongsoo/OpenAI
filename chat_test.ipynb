{
 "cells": [
  {
   "cell_type": "code",
   "execution_count": null,
   "id": "6d31cdad-529e-42b0-80c6-6f693ce76275",
   "metadata": {},
   "outputs": [],
   "source": [
    "# openai 버전은 0.27.0 이상, python 3.7.1 이상 에서 만 ChatCompletion.create 함수를 이용할수 있다.\n",
    "\n",
    "#!pip install openai     # openai 설치 \n",
    "#!pip install --upgrade openai # 필요시, openai 업데이트\n",
    "#!pip show openai        # 필요시 openai 버전 확인  \n",
    "#!python -m pip --version #\n",
    "#\n",
    "# openai doc 참고: https://platform.openai.com/docs/api-reference/completions/create?lang=python"
   ]
  },
  {
   "cell_type": "code",
   "execution_count": 1,
   "id": "4e6bd795-55b5-4302-9b03-506a8ef82fc3",
   "metadata": {},
   "outputs": [],
   "source": [
    "import os\n",
    "import openai\n",
    "\n",
    "# key 지정\n",
    "openai.api_key = \"sk-xxx\"\n",
    "\n",
    "# 모델 - GPT 3.5 Turbo 지정\n",
    "# => 모델 목록은 : https://platform.openai.com/docs/models/gpt-4 참조\n",
    "model = \"gpt-4-0314\"#\"gpt-4\"#\"gpt-3.5-turbo\"\n",
    "\n",
    "#--------------------------\n",
    "# 처음 역활을 부여하는 쿼리 (1번만 호출되는 쿼리임)\n",
    "def role_set_query():\n",
    "   \n",
    "    # ChatGPT-API 호출하기\n",
    "    response = openai.ChatCompletion.create(\n",
    "            model=model,\n",
    "            messages=MESSAGES,\n",
    "            max_tokens=500, # 토큰 수 \n",
    "            temperature=2,  # temperature 0~2 범위 : 작을수록 정형화된 답변, 클수록 유연한 답변(2는 엉뚱한 답변을 하므로, 1.5정도가 좋은것 같음=기본값은=1)\n",
    "            top_p=0.1 # 기본값은 1 (0.1이라고 하면 10% 토큰들에서 출력 토큰들을 선택한다는 의미)\n",
    "        )\n",
    "\n",
    "    print(response)\n",
    "    print()\n",
    "    answer = response['choices'][0]['message']['content']\n",
    "    print(f'A:{answer}')\n",
    "    print()    \n",
    "    return answer \n",
    "\n",
    "#--------------------------\n",
    "# 사용자 입력 쿼리\n",
    "def handle_query(answer):\n",
    "\n",
    "    prompt = input(\"질문을 입력하세요\")\n",
    "    print(f'Q:{prompt}')\n",
    "\n",
    "    # 앞에 응답 assistant에 추가해서 메시지 추가 \n",
    "    MESSAGES.append(\n",
    "        {\n",
    "            \"role\": \"assistant\",\n",
    "            \"content\": answer\n",
    "        },\n",
    "    )\n",
    "\n",
    "    # 사용자 메시지 추가\n",
    "    MESSAGES.append(\n",
    "        {\n",
    "            \"role\": \"user\",\n",
    "            \"content\": prompt\n",
    "        }\n",
    "    )\n",
    "\n",
    "    # ChatGPT-API 호출하기\n",
    "    response = openai.ChatCompletion.create(\n",
    "        model=model,\n",
    "        messages=MESSAGES,\n",
    "        max_tokens=500, # 토큰 수 \n",
    "        temperature=1,  # temperature 0~2 범위 : 작을수록 정형화된 답변, 클수록 유연한 답변(2는 엉뚱한 답변을 하므로, 1.5정도가 좋은것 같음=기본값은=1)\n",
    "        top_p=0.1 # 기본값은 1 (0.1이라고 하면 10% 토큰들에서 출력 토큰들을 선택한다는 의미)\n",
    "    )\n",
    "\n",
    "    answer = response['choices'][0]['message']['content']\n",
    "    print(f'A:{answer}')\n",
    "    print()\n",
    "    \n",
    "    return answer\n",
    "\n",
    "#--------------------------\n",
    "def run_query_loop():\n",
    "    \n",
    "    answer = role_set_query()\n",
    "    \n",
    "    while True:\n",
    "        try:\n",
    "            answer = handle_query(answer)\n",
    "        except KeyboardInterrupt:\n",
    "            return\n",
    "#--------------------------       "
   ]
  },
  {
   "cell_type": "code",
   "execution_count": 2,
   "id": "34dd30ec-251d-46e5-ad27-1bf3c5d2ef15",
   "metadata": {},
   "outputs": [
    {
     "name": "stdout",
     "output_type": "stream",
     "text": [
      "{\n",
      "  \"choices\": [\n",
      "    {\n",
      "      \"finish_reason\": \"stop\",\n",
      "      \"index\": 0,\n",
      "      \"message\": {\n",
      "        \"content\": \"\\uc548\\ub155\\ud558\\uc138\\uc694! \\uc1fc\\ud551 \\ud638\\uc2a4\\ud2b8\\ub85c\\uc11c \\ub3c4\\uc640\\ub4dc\\ub9ac\\uac8c \\ub418\\uc5b4 \\uae30\\uc069\\ub2c8\\ub2e4. \\uc5b4\\ub5a4 \\uc0c1\\ud488\\uc744 \\ucc3e\\uc73c\\uc2dc\\uac70\\ub098 \\uad81\\uae08\\ud55c \\uc810\\uc774 \\uc788\\uc73c\\uc2e0\\uac00\\uc694? \\uc81c\\uac00 \\ub3c4\\uc640\\ub4dc\\ub9b4 \\uc218 \\uc788\\ub294 \\uc9c8\\ubb38\\uc774 \\uc788\\ub2e4\\uba74 \\uc5b8\\uc81c\\ub4e0\\uc9c0 \\ubb3c\\uc5b4\\ubcf4\\uc138\\uc694!\\n\\nkey=\\uc1fc\\ud551 \\ud638\\uc2a4\\ud2b8, \\uc0c1\\ud488, \\uad81\\uae08\\ud55c \\uc810, \\uc9c8\\ubb38, \\ub3c4\\uc6c0\",\n",
      "        \"role\": \"assistant\"\n",
      "      }\n",
      "    }\n",
      "  ],\n",
      "  \"created\": 1679468996,\n",
      "  \"id\": \"chatcmpl-6wmtYokrPir4nzPxL7R7rN7rC71G2\",\n",
      "  \"model\": \"gpt-4-0314\",\n",
      "  \"object\": \"chat.completion\",\n",
      "  \"usage\": {\n",
      "    \"completion_tokens\": 120,\n",
      "    \"prompt_tokens\": 99,\n",
      "    \"total_tokens\": 219\n",
      "  }\n",
      "}\n",
      "\n",
      "A:안녕하세요! 쇼핑 호스트로서 도와드리게 되어 기쁩니다. 어떤 상품을 찾으시거나 궁금한 점이 있으신가요? 제가 도와드릴 수 있는 질문이 있다면 언제든지 물어보세요!\n",
      "\n",
      "key=쇼핑 호스트, 상품, 궁금한 점, 질문, 도움\n",
      "\n"
     ]
    },
    {
     "name": "stdin",
     "output_type": "stream",
     "text": [
      "질문을 입력하세요 오늘 날씨가 어때요\n"
     ]
    },
    {
     "name": "stdout",
     "output_type": "stream",
     "text": [
      "Q:오늘 날씨가 어때요\n",
      "A:죄송합니다. 저는 쇼핑 호스트로서 날씨 정보를 제공해드릴 수 없습니다. 상품 관련 질문이나 궁금한 점이 있으시면 도와드리겠습니다.\n",
      "\n",
      "key=날씨, 쇼핑 호스트, 상품, 궁금한 점, 질문\n",
      "\n"
     ]
    },
    {
     "name": "stdin",
     "output_type": "stream",
     "text": [
      "질문을 입력하세요 내일이 중학교 2학년 여자애 생일인데요. 뭐가 좋을 까요?\n"
     ]
    },
    {
     "name": "stdout",
     "output_type": "stream",
     "text": [
      "Q:내일이 중학교 2학년 여자애 생일인데요. 뭐가 좋을 까요?\n",
      "A:중학교 2학년 여자애분의 생일 선물로 추천해드릴 수 있는 상품은 다음과 같습니다:\n",
      "\n",
      "1. 패션 아이템: 예쁜 헤어 액세서리, 가방, 지갑, 팔찌 등\n",
      "2. 문구류: 다이어리, 펜, 노트북, 스티커 등\n",
      "3. 화장품: 립밤, 손크림, 향수 등\n",
      "4. 취미 관련 아이템: 책, 음악 앨범, 퍼즐, 그림 도구 등\n",
      "5. 기프트 카드: 영화, 음식점, 쇼핑몰 등\n",
      "\n",
      "선물을 고르실 때 그 분의 취향과 관심사를 고려하시면 더 좋은 선택이 될 것입니다. 행운을 빌어요!\n",
      "\n",
      "key=중학교 2학년, 여자애, 생일, 선물, 추천, 패션 아이템, 문구류, 화장품, 취미 관련 아이템, 기프트 카드\n",
      "\n"
     ]
    },
    {
     "name": "stdin",
     "output_type": "stream",
     "text": [
      "질문을 입력하세요 상품명과 가격대를 표로 보여주세요\n"
     ]
    },
    {
     "name": "stdout",
     "output_type": "stream",
     "text": [
      "Q:상품명과 가격대를 표로 보여주세요\n",
      "A:다음은 중학교 2학년 여자애분의 생일 선물로 추천하는 상품들과 가격대를 표로 정리한 것입니다.\n",
      "\n",
      "| 상품명                    | 가격대       |\n",
      "|-----------------------|-----------|\n",
      "| 헤어 액세서리 세트         | 10,000원 ~ 30,000원 |\n",
      "| 스타일리시 가방             | 20,000원 ~ 50,000원 |\n",
      "| 다이어리 & 펜 세트          | 10,000원 ~ 30,000원 |\n",
      "| 립밤 & 손크림 세트         | 10,000원 ~ 30,000원 |\n",
      "| 취미 관련 도서             | 10,000원 ~ 30,000원 |\n",
      "| 영화/음식점/쇼핑몰 기프트 카드 | 10,000원 ~ 50,000원 |\n",
      "\n",
      "이 표는 참고용이며, 실제 가격은 구매처와 상품에 따라 다를 수 있습니다. 선물을 고르실 때 그 분의 취향과 관심사를 고려하시면 더 좋은 선택이 될 것입니다. 행운을 빌어요!\n",
      "\n",
      "key=상품명, 가격대, 표, 중학교 2학년, 여자애, 생일, 선물, 추천\n",
      "\n"
     ]
    }
   ],
   "source": [
    "# query 처리\n",
    "\n",
    "ROLE_PROMPT = \"쇼핑 호스트 역활을 부여합니다.질문에 대해 쇼핑 호스트 처럼 답변하고 요청 질문을 해주세요.그리고 키워드 단어들을 'key=단어,단어,...'형태로 출력해 주세요.\"\n",
    "# 메시지 설정\n",
    "MESSAGES = [\n",
    "            {\"role\": \"system\", \"content\": \"You are a helful assistant.\"},\n",
    "            #{\"role\": \"system\", \"content\": \"질문에 대해 요약해줘\"},\n",
    "            #{\"role\": \"user\", \"content\" : \"How are you?\"},\n",
    "            #{\"role\": \"assistant\", \"content\" : \"I am doing well\"},\n",
    "            {\"role\": \"user\", \"content\": ROLE_PROMPT}\n",
    "        ]\n",
    "\n",
    "run_query_loop()"
   ]
  },
  {
   "cell_type": "code",
   "execution_count": null,
   "id": "1f47ae5a-bb57-44c5-aba4-ec9d50e88291",
   "metadata": {},
   "outputs": [],
   "source": []
  }
 ],
 "metadata": {
  "kernelspec": {
   "display_name": "Python 3 (ipykernel)",
   "language": "python",
   "name": "python3"
  },
  "language_info": {
   "codemirror_mode": {
    "name": "ipython",
    "version": 3
   },
   "file_extension": ".py",
   "mimetype": "text/x-python",
   "name": "python",
   "nbconvert_exporter": "python",
   "pygments_lexer": "ipython3",
   "version": "3.9.7"
  }
 },
 "nbformat": 4,
 "nbformat_minor": 5
}
