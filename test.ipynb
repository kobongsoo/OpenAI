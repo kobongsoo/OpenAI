{
 "cells": [
  {
   "cell_type": "code",
   "execution_count": null,
   "id": "5c337e36-37d4-4384-a13c-3186dacdf47e",
   "metadata": {},
   "outputs": [],
   "source": [
    "# 환경변수로 OPENAI_API_KEY를 지정해야 함.\n",
    "import os\n",
    "\n",
    "# key.env 파일을 만들고, OPENAI_API_KEY = sk_xxxx 식으로 입력하면됨.\n",
    "def load_api_key():\n",
    "    # key.env 파일 경로 설정\n",
    "    env_file_path = \"key.env\"\n",
    "    \n",
    "    # 파일이 존재하면 읽기 모드로 열기\n",
    "    if os.path.exists(env_file_path):\n",
    "        with open(env_file_path, \"r\") as file:\n",
    "            # 파일 내용 읽어오기\n",
    "            content = file.read().strip()\n",
    "\n",
    "            # 파일 내용에서 _BARD_API_KEY 환경변수 값을 가져오기\n",
    "            bard_api_key = None\n",
    "            for line in content.splitlines():\n",
    "                key, value = line.split(\"=\")\n",
    "                if key.strip() == \"OPENAI_API_KEY\":\n",
    "                    bard_api_key = value.strip()\n",
    "                    break\n",
    "            \n",
    "            if bard_api_key is not None:\n",
    "                # 환경변수로 설정\n",
    "                os.environ[\"OPENAI_API_KEY\"] = api_key\n",
    "                print(\"Successfully loaded _API_KEY from key.env.\")\n",
    "            else:\n",
    "                print(\"_API_KEY not found in key.env.\")\n",
    "    else:\n",
    "        print(\"key.env file not found.\")\n",
    "\n",
    "# 환경변수 불러오기 호출\n",
    "load_api_key()\n",
    "\n",
    "#os.environ['OPENAI_API_KEY'] = 'sk-'\n",
    "\n",
    "# 인덱싱을 파일로 저장 하고 불러옴.\n",
    "from llama_index import GPTSimpleVectorIndex\n",
    "# Load the index from your saved index.json file\n",
    "index = GPTSimpleVectorIndex.load_from_disk('./index/index.json')\n",
    "\n",
    "print(index)"
   ]
  },
  {
   "cell_type": "code",
   "execution_count": null,
   "id": "ac213670-3deb-420c-8660-ab97fb50e1ad",
   "metadata": {},
   "outputs": [],
   "source": [
    "response = index.query(\"동북아 오일허브 사업 생산유발효과는 얼마인가?\")\n",
    "print(response)"
   ]
  },
  {
   "cell_type": "code",
   "execution_count": null,
   "id": "73618941-a418-49cc-9b5c-a90ca67f4634",
   "metadata": {},
   "outputs": [],
   "source": []
  }
 ],
 "metadata": {
  "kernelspec": {
   "display_name": "Python 3 (ipykernel)",
   "language": "python",
   "name": "python3"
  },
  "language_info": {
   "codemirror_mode": {
    "name": "ipython",
    "version": 3
   },
   "file_extension": ".py",
   "mimetype": "text/x-python",
   "name": "python",
   "nbconvert_exporter": "python",
   "pygments_lexer": "ipython3",
   "version": "3.9.7"
  }
 },
 "nbformat": 4,
 "nbformat_minor": 5
}
