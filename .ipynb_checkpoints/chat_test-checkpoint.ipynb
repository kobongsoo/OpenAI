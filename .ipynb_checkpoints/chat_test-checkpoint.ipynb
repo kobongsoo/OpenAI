{
 "cells": [
  {
   "cell_type": "code",
   "execution_count": null,
   "id": "6d31cdad-529e-42b0-80c6-6f693ce76275",
   "metadata": {},
   "outputs": [],
   "source": [
    "# openai 버전은 0.27.0 이상, python 3.7.1 이상 에서 만 ChatCompletion.create 함수를 이용할수 있다.\n",
    "\n",
    "#!pip install openai     # openai 설치 \n",
    "#!pip install --upgrade openai # 필요시, openai 업데이트\n",
    "#!pip show openai        # 필요시 openai 버전 확인  \n",
    "#!python -m pip --version #"
   ]
  },
  {
   "cell_type": "code",
   "execution_count": 4,
   "id": "4e6bd795-55b5-4302-9b03-506a8ef82fc3",
   "metadata": {},
   "outputs": [],
   "source": [
    "import os\n",
    "import openai\n",
    "\n",
    "# key 지정\n",
    "openai.api_key = \"??\"\n",
    "\n",
    "# 모델 - GPT 3.5 Turbo 지정\n",
    "model = \"gpt-3.5-turbo\"\n",
    "\n",
    "def run_query_loop():\n",
    "    while True:\n",
    "        try:\n",
    "            handle_query()\n",
    "        except KeyboardInterrupt:\n",
    "            return\n",
    "        \n",
    "\n",
    "def handle_query():\n",
    "\n",
    "    prompt = input(\"질문을 입력하세요\")\n",
    "    print(f'Q:{prompt}')\n",
    "\n",
    "    # 메시지 설정\n",
    "    messages = [\n",
    "        {\"role\": \"system\", \"content\": \"You are a helpful assistant.\"},\n",
    "        {\"role\": \"user\", \"content\" : \"How are you?\"},\n",
    "        {\"role\": \"assistant\", \"content\" : \"I am doing well\"},\n",
    "        {\"role\": \"user\", \"content\": prompt}\n",
    "    ]\n",
    "\n",
    "    # ChatGPT-API 호출하기\n",
    "    response = openai.ChatCompletion.create(\n",
    "        model=model,\n",
    "        messages=messages\n",
    "    )\n",
    "\n",
    "    print(response)\n",
    "    print()\n",
    "    answer = response['choices'][0]['message']['content']\n",
    "    print(f'A:{answer}')\n",
    "\n"
   ]
  },
  {
   "cell_type": "code",
   "execution_count": 5,
   "id": "34dd30ec-251d-46e5-ad27-1bf3c5d2ef15",
   "metadata": {},
   "outputs": [
    {
     "name": "stdin",
     "output_type": "stream",
     "text": [
      "질문을 입력하세요 chatgpt 토큰당 가격 책정은 입력, 출력 모두 포함해서 1000 토큰당 0.002달러인가요?\n"
     ]
    },
    {
     "name": "stdout",
     "output_type": "stream",
     "text": [
      "Q:chatgpt 토큰당 가격 책정은 입력, 출력 모두 포함해서 1000 토큰당 0.002달러인가요?\n",
      "{\n",
      "  \"choices\": [\n",
      "    {\n",
      "      \"finish_reason\": \"stop\",\n",
      "      \"index\": 0,\n",
      "      \"message\": {\n",
      "        \"content\": \"\\uc81c\\uac00 \\uc54c\\uae30\\ub85c\\ub294 ChatGPT \\ud1a0\\ud070\\uc740 \\ud604\\uc7ac \\uc2dc\\uc7a5\\uc5d0\\uc11c \\uac70\\ub798\\ub418\\uc9c0 \\uc54a\\uc73c\\ubbc0\\ub85c, \\ud1a0\\ud070\\ub2f9 \\uac00\\uaca9 \\ucc45\\uc815\\uc740 \\uc81c\\uacf5\\ub418\\uc9c0 \\uc54a\\uc2b5\\ub2c8\\ub2e4. \\ub530\\ub77c\\uc11c, 1000 \\ud1a0\\ud070\\ub2f9 0.002\\ub2ec\\ub7ec\\ub77c\\ub294 \\uc815\\ubcf4\\ub294 \\uc815\\ud655\\ud558\\uc9c0 \\uc54a\\uc744 \\uc218 \\uc788\\uc2b5\\ub2c8\\ub2e4.\",\n",
      "        \"role\": \"assistant\"\n",
      "      }\n",
      "    }\n",
      "  ],\n",
      "  \"created\": 1678691197,\n",
      "  \"id\": \"chatcmpl-6tWYPPNYvzfMuQXcnfv3xLIB0fGty\",\n",
      "  \"model\": \"gpt-3.5-turbo-0301\",\n",
      "  \"object\": \"chat.completion\",\n",
      "  \"usage\": {\n",
      "    \"completion_tokens\": 90,\n",
      "    \"prompt_tokens\": 82,\n",
      "    \"total_tokens\": 172\n",
      "  }\n",
      "}\n",
      "\n",
      "A:제가 알기로는 ChatGPT 토큰은 현재 시장에서 거래되지 않으므로, 토큰당 가격 책정은 제공되지 않습니다. 따라서, 1000 토큰당 0.002달러라는 정보는 정확하지 않을 수 있습니다.\n"
     ]
    }
   ],
   "source": [
    "# query 처리\n",
    "run_query_loop()"
   ]
  },
  {
   "cell_type": "code",
   "execution_count": null,
   "id": "1f47ae5a-bb57-44c5-aba4-ec9d50e88291",
   "metadata": {},
   "outputs": [],
   "source": []
  }
 ],
 "metadata": {
  "kernelspec": {
   "display_name": "Python 3 (ipykernel)",
   "language": "python",
   "name": "python3"
  },
  "language_info": {
   "codemirror_mode": {
    "name": "ipython",
    "version": 3
   },
   "file_extension": ".py",
   "mimetype": "text/x-python",
   "name": "python",
   "nbconvert_exporter": "python",
   "pygments_lexer": "ipython3",
   "version": "3.9.7"
  }
 },
 "nbformat": 4,
 "nbformat_minor": 5
}
