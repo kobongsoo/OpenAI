{
 "cells": [
  {
   "cell_type": "code",
   "execution_count": null,
   "id": "a91aaaaf-ec23-4786-9a43-c4e4f6ad2257",
   "metadata": {},
   "outputs": [],
   "source": [
    "# ========OpenAI Vison 예제========\n",
    "#!pip install -U openai\n",
    "#openai.api_key = \"sk-\"\n",
    "\n",
    "# 루트경로에 .env 파일을 만들고, OPENAI_API_KEY='{API_KEY}' 식으로 입력한다.\n",
    "# API 키를 환경변수로 관리하기 위한 .env설정 파일 로딩\n",
    "import os\n",
    "from dotenv import load_dotenv\n",
    "\n",
    "load_dotenv() # API 키 정보 로드\n",
    "print(f\"[API KEY]\\n{os.environ['OPENAI_API_KEY']}\")"
   ]
  },
  {
   "cell_type": "code",
   "execution_count": 4,
   "id": "b7dc33e2-737e-4b90-a629-201be1f84dd2",
   "metadata": {},
   "outputs": [
    {
     "name": "stdout",
     "output_type": "stream",
     "text": [
      "Choice(finish_reason='stop', index=0, logprobs=None, message=ChatCompletionMessage(content='이 이미지는 만화 스타일로 그려진 모아이 석상 캐릭터와 붉은 배경에 흰색으로 \"M\"이 그려진 로고가 함께 있는 모습입니다. 모아이 석상 캐릭터는 커다란 머리와 윗몸으로 이루어져 있으며 단순화된 표정과 입체감 있는 디자인입니다. 로고는 직사각형 모양의 빨간 배경에 굵은 흰색 \"M\"이 중심에 배치되어 있습니다. 이 로고는 특정 브랜드나 서비스를 나타내는 것으로 보입니다.', role='assistant', function_call=None, tool_calls=None))\n"
     ]
    }
   ],
   "source": [
    "# 출처 : https://platform.openai.com/docs/guides/vision\n",
    "from openai import OpenAI\n",
    "\n",
    "client = OpenAI()\n",
    "\n",
    "response = client.chat.completions.create(\n",
    "  model=\"gpt-4o\",\n",
    "  messages=[\n",
    "    {\n",
    "      \"role\": \"user\",\n",
    "      \"content\": [\n",
    "        {\"type\": \"text\", \"text\": \"어떤 이미지인지 설명해주세요.\"},\n",
    "        {\n",
    "          \"type\": \"image_url\",\n",
    "          \"image_url\": {\n",
    "            \"url\": \"http://k.kakaocdn.net/dn/BW8Ng/btsA7UjIXma/Eo2vvDdqrlS1dsFLjFMwJk/2x1.jpg\",\n",
    "          },\n",
    "        },\n",
    "      ],\n",
    "    }\n",
    "  ],\n",
    "  max_tokens=300,\n",
    ")\n",
    "\n",
    "print(response.choices[0])"
   ]
  }
 ],
 "metadata": {
  "kernelspec": {
   "display_name": "Python 3 (ipykernel)",
   "language": "python",
   "name": "python3"
  },
  "language_info": {
   "codemirror_mode": {
    "name": "ipython",
    "version": 3
   },
   "file_extension": ".py",
   "mimetype": "text/x-python",
   "name": "python",
   "nbconvert_exporter": "python",
   "pygments_lexer": "ipython3",
   "version": "3.10.12"
  }
 },
 "nbformat": 4,
 "nbformat_minor": 5
}
