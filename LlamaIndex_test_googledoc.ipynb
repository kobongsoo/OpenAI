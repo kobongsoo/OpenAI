{
 "cells": [
  {
   "cell_type": "code",
   "execution_count": null,
   "id": "a2044fed-9719-4553-8cb7-f27a95cc238d",
   "metadata": {},
   "outputs": [],
   "source": [
    "# 출처 : https://betterprogramming.pub/how-to-build-your-own-custom-chatgpt-with-custom-knowledge-base-4e61ad82427e\n",
    "\n",
    "#!pip install openai\n",
    "#!pip install llama-index\n",
    "#!pip install google-auth-oauthlib"
   ]
  },
  {
   "cell_type": "code",
   "execution_count": null,
   "id": "b43eac86-86eb-4b1a-9d47-370f9df1a500",
   "metadata": {},
   "outputs": [],
   "source": [
    "import os\n",
    "import pickle\n",
    "from google.auth.transport.requests import Request\n",
    "from google_auth_oauthlib.flow import InstalledAppFlow\n",
    "from llama_index import GPTSimpleVectorIndex, download_loader\n",
    "\n",
    "os.environ['OPENAI_API_KEY'] = 'sk-xxx'"
   ]
  },
  {
   "cell_type": "code",
   "execution_count": null,
   "id": "7c842640-4eb3-4cb0-ab03-d89c5fccee13",
   "metadata": {},
   "outputs": [],
   "source": [
    "# Google 문서 API를 활성화하고 Google 콘솔에서 자격 증명을 가져오려면 다음 단계를 따르세요.\n",
    "\n",
    "'''\n",
    "1. Google Cloud Console 웹사이트(console.cloud.google.com)로 이동합니다.\n",
    "\n",
    "2. 아직 만들지 않은 경우 새 프로젝트를 만듭니다. \n",
    "상단 내비게이션 바에서 \"프로젝트 선택\" 드롭다운 메뉴를 클릭하고 \"새 프로젝트\"를 선택하면 됩니다. \n",
    "프롬프트에 따라 프로젝트 이름을 지정하고 연결하려는 조직을 선택합니다.\n",
    "\n",
    "3.프로젝트가 생성되면 상단 내비게이션 바의 드롭다운 메뉴에서 선택하세요.\n",
    "\n",
    "4.왼쪽 메뉴에서 \"API 및 서비스\" 섹션으로 이동하고 페이지 상단에 있는 \"+ API 및 서비스 활성화\" 버튼을 클릭합니다.\n",
    "\n",
    "5.검색창에 \"Google Docs API\"를 검색하고 결과 목록에서 선택합니다.\n",
    "\n",
    "6.프로젝트에 대한 API를 활성화하려면 \"활성화\" 버튼을 클릭하십시오.\n",
    "\n",
    "7.OAuth 동의 화면 메뉴를 클릭하고 앱에 \"mychatbot\"과 같은 이름을 만들고 지정한 다음 지원 이메일을 입력하고 저장하고 범위를 추가합니다.\n",
    "\n",
    "8. 이 Google 앱이 아직 승인되지 않았으므로 테스트 사용자도 추가해야 합니다. 자신의 이메일이 될 수 있습니다.\n",
    "\n",
    "9.그런 다음 API를 사용하려면 프로젝트에 대한 자격 증명을 설정해야 합니다. \n",
    "이렇게 하려면 왼쪽 메뉴에서 \"자격 증명\" 섹션으로 이동하여 \"자격 증명 만들기\"를 클릭합니다. \n",
    "\"OAuth 클라이언트 ID\"를 선택하고 프롬프트에 따라 자격 증명을 설정합니다.\n",
    "\n",
    "10.자격 증명이 설정되면 아래 그림과 같이 JSON 파일을 다운로드하여 애플리케이션의 루트에 저장할 수 있습니다.\n",
    "\n",
    "자격 증명을 설정하면 Python 프로젝트에서 Google Docs API에 액세스할 수 있습니다.\n",
    "'''"
   ]
  },
  {
   "cell_type": "code",
   "execution_count": null,
   "id": "2f33e66c-773d-4612-ba4d-74048dcb0e3c",
   "metadata": {},
   "outputs": [],
   "source": [
    "# Google 문서를 검색하기 위해 Google 계정에 대해 인증하는 데 도움이 되는 함수를 구성\n",
    "def authorize_gdocs():\n",
    "    google_oauth2_scopes = [\n",
    "        \"https://www.googleapis.com/auth/documents.readonly\"\n",
    "    ]\n",
    "    cred = None\n",
    "    if os.path.exists(\"token.pickle\"):\n",
    "        with open(\"token.pickle\", 'rb') as token:\n",
    "            cred = pickle.load(token)\n",
    "    if not cred or not cred.valid:\n",
    "        if cred and cred.expired and cred.refresh_token:\n",
    "            cred.refresh(Request())\n",
    "        else:\n",
    "            # 자격증명.json 파일명을 다운로드 받은 파일명으로 변경해야함.\n",
    "            flow = InstalledAppFlow.from_client_secrets_file(\"client_secret_611880424174-1jobl5s3djcigva5pj0ocvene8av1e03.apps.googleusercontent.com.json\", google_oauth2_scopes)\n",
    "            cred = flow.run_local_server(port=0)\n",
    "        with open(\"token.pickle\", 'wb') as token:\n",
    "            pickle.dump(cred, token)"
   ]
  },
  {
   "cell_type": "code",
   "execution_count": null,
   "id": "fc8b863b-22cc-4837-afd1-7a425f7e3ff2",
   "metadata": {},
   "outputs": [],
   "source": [
    "# 최신 자격 증명을 승인하거나 다운로드하는 함수\n",
    "authorize_gdocs() "
   ]
  },
  {
   "cell_type": "code",
   "execution_count": null,
   "id": "c176ab5d-ad3e-40a7-a299-1a4786812854",
   "metadata": {},
   "outputs": [],
   "source": [
    "# LlamaIndex Google 문서 리더 초기화\n",
    "GoogleDocsReader = download_loader('GoogleDocsReader') "
   ]
  },
  {
   "cell_type": "code",
   "execution_count": null,
   "id": "cff74368-db1e-4aa7-9230-10a65ef0baee",
   "metadata": {},
   "outputs": [],
   "source": [
    "# 인덱싱하려는 Google 문서 목록\n",
    "gdoc_ids = ['1q5lTGnZDQ74SX1Cj1ucUsagOCMkZOH-Jk8vP0rjTB74'] \n",
    "\n",
    "loader = GoogleDocsReader()"
   ]
  },
  {
   "cell_type": "code",
   "execution_count": null,
   "id": "08738958-3007-4cf4-bc91-8c8695caf6dc",
   "metadata": {},
   "outputs": [],
   "source": [
    "# 로드 gdocs 및 색인\n",
    "documents = loader.load_data(document_ids=gdoc_ids)\n",
    "index = GPTSimpleVectorIndex(documents)    "
   ]
  },
  {
   "cell_type": "code",
   "execution_count": null,
   "id": "0dfeea5e-59fb-46fb-998c-278c7a50e9f5",
   "metadata": {},
   "outputs": [],
   "source": [
    "# 인덱싱을 파일로 저장 하고 불러옴.\n",
    "index.save_to_disk('index.json')\n",
    "# Load the index from your saved index.json file\n",
    "index = GPTSimpleVectorIndex.load_from_disk('index.json')"
   ]
  },
  {
   "cell_type": "code",
   "execution_count": null,
   "id": "1ff908d0-a45f-4e31-aaeb-e8659ee50e81",
   "metadata": {},
   "outputs": [],
   "source": [
    "# 인덱싱 쿼리함\n",
    "while True:\n",
    "    prompt = input(\"Type prompt...\")\n",
    "    response = index.query(prompt)\n",
    "    print(response)"
   ]
  },
  {
   "cell_type": "code",
   "execution_count": null,
   "id": "1ba13237-5f35-4ecf-9764-b43c467d8cbb",
   "metadata": {},
   "outputs": [],
   "source": [
    "# 명시적으로 다른 LLM 정의하는 방법\n",
    "from langchain import OpenAI \n",
    "from llama_index import LLMPredictor, GPTSimpleVectorIndex, PromptHelper \n",
    "\n",
    "# 명시적으로 다른 LLM 정의\n",
    " llm_predictor = LLMPredictor(llm=OpenAI(temperature=0, model_name= \"text-davinci-003\" )) \n",
    "\n",
    "# 프롬프트 구성 정의 \n",
    "# 최대 설정 입력 크기\n",
    " max_input_size = 4096 \n",
    "# 출력 토큰 수 설정\n",
    " num_output = 256 \n",
    "# 최대 청크 중첩 설정\n",
    " max_chunk_overlap = 20 \n",
    "prompt_helper = PromptHelper(max_input_size, num_output, max_chunk_overlap) \n",
    "\n",
    "index = GPTSimpleVectorIndex( \n",
    "    documents, llm_predictor=llm_predictor, prompt_helper=prompt_helper \n",
    ")"
   ]
  }
 ],
 "metadata": {
  "kernelspec": {
   "display_name": "Python 3 (ipykernel)",
   "language": "python",
   "name": "python3"
  },
  "language_info": {
   "codemirror_mode": {
    "name": "ipython",
    "version": 3
   },
   "file_extension": ".py",
   "mimetype": "text/x-python",
   "name": "python",
   "nbconvert_exporter": "python",
   "pygments_lexer": "ipython3",
   "version": "3.9.7"
  }
 },
 "nbformat": 4,
 "nbformat_minor": 5
}
