{
 "cells": [
  {
   "cell_type": "code",
   "execution_count": 1,
   "id": "586c315b-ae98-4687-b1c6-de219ba40f9f",
   "metadata": {},
   "outputs": [],
   "source": [
    "#------------------------------------------------------------------------------------------------------------\n",
    "# huggingface text2text-generation 모델을 연동한 langchaing  Q&A 예제\n",
    "# -> 로컬 문서를 임베딩 하고, 유사한 문서를 찾은후, LM(Language Moel) 으로 문서와 쿼리를 날려서 응답결과를 얻는 예시임.\n",
    "#\n",
    "# 출처 : https://medium.com/the-techlife/using-huggingface-openai-and-cohere-models-with-langchain-db57af14ac5b\n",
    "# 참고 : https://python.langchain.com/en/latest/\n",
    "#\n",
    "# pip install 'huggingface_hub'\n",
    "# pip install unstructured      -> DirectoryLoader (파일 로딩할때)\n",
    "#\n",
    "# => 결론 : hugggingface LM(Language Moel)은 실패. 따라서 임베딩만 huggingface 모델 이용하고, LM은 OPENAI 모델 이용함\n",
    "#------------------------------------------------------------------------------------------------------------\n",
    "\n",
    "from langchain import PromptTemplate, HuggingFaceHub, LLMChain\n",
    "from langchain.embeddings import HuggingFaceEmbeddings\n",
    "from langchain.indexes import VectorstoreIndexCreator\n",
    "from langchain.callbacks.base import CallbackManager\n",
    "from langchain.callbacks.streaming_stdout import StreamingStdOutCallbackHandler\n",
    "from langchain.chains.qa_with_sources import load_qa_with_sources_chain\n",
    "from langchain.document_loaders import DirectoryLoader, TextLoader\n",
    "from langchain.text_splitter import RecursiveCharacterTextSplitter\n",
    "from langchain.vectorstores import FAISS\n",
    "from huggingface_hub import hf_hub_download\n",
    "import textwrap\n",
    "import glob\n",
    "\n",
    "# hugging face api_key 입력 \n",
    "# => https://huggingface.co/settings/tokens 확인 가능\n",
    "# HUGGING_FACE_API_KEY = 'hf_xxxx'\n",
    "\n",
    "# openai 모델 사용시에는 아래처럼 api_key 설정함.\n",
    "from langchain.llms import OpenAI\n",
    "import os\n",
    "os.environ[\"OPENAI_API_KEY\"] = \"sk-xxxx\""
   ]
  },
  {
   "cell_type": "code",
   "execution_count": 2,
   "id": "e6576891-4a67-49ab-a167-4ac5ff5d024a",
   "metadata": {},
   "outputs": [],
   "source": [
    "# Prompt 생성 \n",
    "# -> 목적에 맞게 되도록이면 영문으로 프롬프트 작성함.\n",
    "# Please try to give me the most beneficial answers to my question with reasoning for why they are correct.(제 질문에 가장 유익한 답변을 해주세요. 그들이 올바른 이유에 대한 추론과 질문)\n",
    "\n",
    "template = \"\"\" You are going to be my assistant.\n",
    "Please provide a brief, short-answer response to the question that best suits you.\n",
    "Question: {input} Answer: \"\"\"\n",
    "\n",
    "prompt = PromptTemplate(template=template, input_variables=[\"input\"])"
   ]
  },
  {
   "cell_type": "code",
   "execution_count": 3,
   "id": "93f7875d-f6a1-4613-875e-97d544c94f85",
   "metadata": {},
   "outputs": [],
   "source": [
    "# text2text 모델과 langchain 연결\n",
    "'''\n",
    "# huggingface 모델 연결\n",
    "model = HuggingFaceHub(repo_id=\"facebook/mbart-large-50\",\n",
    "                       model_kwargs={\"temperature\": 0, \"max_length\": 200},\n",
    "                       huggingfacehub_api_token=HUGGING_FACE_API_KEY)\n",
    "'''\n",
    "\n",
    "# openai 모델 연결\n",
    "model = OpenAI(model_name= \"text-davinci-003\" ) \n",
    "\n",
    "chain = LLMChain(prompt=prompt, llm=model)"
   ]
  },
  {
   "cell_type": "code",
   "execution_count": 4,
   "id": "38fd3f78-2b7a-4fa8-940a-2af9aa3ace0f",
   "metadata": {},
   "outputs": [
    {
     "name": "stderr",
     "output_type": "stream",
     "text": [
      "/MOCOMSYS/anaconda3/envs/bong/lib/python3.9/site-packages/huggingface_hub/snapshot_download.py:6: FutureWarning: snapshot_download.py has been made private and will no longer be available from version 0.11. Please use `from huggingface_hub import snapshot_download` to import the only public function in this module. Other members of the file may be changed without a deprecation notice.\n",
      "  warnings.warn(\n",
      "/MOCOMSYS/anaconda3/envs/bong/lib/python3.9/site-packages/huggingface_hub/file_download.py:621: FutureWarning: `cached_download` is the legacy way to download files from the HF hub, please consider upgrading to `hf_hub_download`\n",
      "  warnings.warn(\n"
     ]
    }
   ],
   "source": [
    "# 임베딩 모델 로딩\n",
    "hf_embeddings = HuggingFaceEmbeddings(model_name='sentence-transformers/all-MiniLM-L6-v2')"
   ]
  },
  {
   "cell_type": "code",
   "execution_count": 5,
   "id": "de711a6f-90fe-44b6-8a30-3a53148aedae",
   "metadata": {},
   "outputs": [
    {
     "name": "stdout",
     "output_type": "stream",
     "text": [
      "len(docs):2\n",
      "len(text):68\n"
     ]
    }
   ],
   "source": [
    "# langchain DirectoryLoader를 이용하여 txt 데이터 불러옴.\n",
    "# -> 참조: https://python.langchain.com/en/latest/modules/indexes/document_loaders/examples/file_directory.html\n",
    "#\n",
    "my_loader = DirectoryLoader('mydata', glob= '**/*.txt', loader_cls=TextLoader) \n",
    "docs = my_loader.load() \n",
    "print(f'len(docs):{len(docs)}')\n",
    "\n",
    "# 청크로 나눔.\n",
    "text_split = RecursiveCharacterTextSplitter(chunk_size = 500 , chunk_overlap = 50 ) \n",
    "text = text_split.split_documents(docs)\n",
    "print(f'len(text):{len(text)}')\n"
   ]
  },
  {
   "cell_type": "code",
   "execution_count": 6,
   "id": "a87651ea-b081-41f9-9298-8fd051988d9a",
   "metadata": {},
   "outputs": [
    {
     "data": {
      "text/plain": [
       "Document(page_content='of freedom fighters known as the Rebel Alliance, who aim to destroy the Empire\\'s newest weapon, the Death Star. Luke Skywalker becomes caught in the conflict while learning the ways of a metaphysical power known as \"the Force\" from Jedi Master Obi-Wan Kenobi. The cast includes Mark Hamill, Harrison Ford, Carrie Fisher, Peter Cushing, Alec Guinness, David Prowse, James Earl Jones, Anthony Daniels, Kenny Baker, and Peter Mayhew.', metadata={'source': 'mydata/starwars.txt'})"
      ]
     },
     "execution_count": 6,
     "metadata": {},
     "output_type": "execute_result"
    }
   ],
   "source": [
    "text[1]"
   ]
  },
  {
   "cell_type": "code",
   "execution_count": 7,
   "id": "762c4dbd-e9be-4379-be59-89e1a7a3e706",
   "metadata": {},
   "outputs": [],
   "source": [
    "# 텍스트와 임베딩을 FAISS에 전달 하여 임베딩 수행\n",
    "# -> 기타 FAISS 외 다른 임베딩 방법은 https://python.langchain.com/en/latest/modules/indexes/vectorstores.html 참조\n",
    "#\n",
    "vectorstore = FAISS.from_documents(text, hf_embeddings)"
   ]
  },
  {
   "cell_type": "code",
   "execution_count": 9,
   "id": "2f44eaf0-9d12-4f23-b3e3-8c871ff57381",
   "metadata": {},
   "outputs": [
    {
     "name": "stdout",
     "output_type": "stream",
     "text": [
      "len(documents):4\n",
      "[Document(page_content='7.3. 국내 가족여비\\n7.3.1. 국내 가족여비는 국내 이전자로서 이전할 때 가족(배우자, 본인 및 배우자의 직계존속, 직계비속으로서 생계를 같이 하는 사람을 말한다)을 동반하거나 이전 후에 가족을 불러오는 임직원에게 지급한다.\\n7.3.2. 국내 이전자가 특별한 사정으로 대표이사의 허가를 받아 부임의 명을 받은 날로부터 6개월 이내에 전임지 또는 전임지 외의 지역에서 신임지 외의 지역으로 가족을 이전하는 경우에는 가족여비를 지급한다.(예를 들어 광주로 부임하는데, 가족은 광주광역시 근처의 다른 지방으로 이사하는 경우)\\n7.3.3. 가족여비는 가족 1명마다 다음 각 호의 구분에 따른 금액을 지급한다.\\n가. 운임과 숙박비 : 본인이 여행하는 경우에 지급하는 금액\\n나. 일비와 식비 : 본인이 여행하는 경우에 지급할 수 있는 금액을 기준으로 12세 이상인 가족에 대해서는 3분의 2, 12세 미만의 가족에 대해서는 3분의 1에 상당하는 금액\\n7.4. 해외 가족여비', metadata={'source': 'mydata/출장여비규정.txt'}), Document(page_content='자를 말한다.\\n15. 원격지 근무\\n15.1. 출장의 정의에 부합하며, 지사, 사무소가 아닌 지역으로, 회사의 비용으로 숙박시설을 마련해 주는 경우를 원격지 근무라고 한다.\\n15.2.원격지 근무자에게는 숙박비, 운임, 일비, 식비, 원격지근무수당을 지급한다.\\n15.3. 숙박비는 숙박시설을 회사에서 제공(숙박시설 임차 및 숙박에 필요한 기본적인 물품 제공)하는 것으로 하여 별도로 지급하지 아니한다.\\n15.4. 숙박에 필요한 기본 물품 구매는 별표9. 원격지 근무시 필요 물품 구매에 따른다.\\n15.5. 운임은 월 4회(왕복 8회), 근무지에서 서울역까지의 KTX요금 혹은 이에 준하는 교통편의(시외버스 혹은 고속버스) 요금을 현금으로 지급한다.\\n15.6. 일비와 식비는 월 4회(왕복 8회)의 이동일을 기준으로 지급한다.\\n15.6. 운임, 일비, 식비의 지급은 프로젝트 투입일을 기준으로 하여, 매월 선지급하는 것을 원칙으로 한다.', metadata={'source': 'mydata/출장여비규정.txt'}), Document(page_content='6.1.2. 일비는 여행일수에 따라 지급하되, 법인차량을 이용하는 경우에는 일비의 2분의 1을 지급한다.\\n6.1.3. 식비는 여행일수에 따라 지급한다. 다만, 수로여행과 항공여행에 는 따로 식비가 필요한 경우에만 식비를 지급한다.\\n6.2. 동일지역 장기체재 중 일비의 감액\\n6.2.1. 같은 곳에 장기간 체재하는 경우의 일비는 그곳에 도착한 다음날부터 기산하여 15일을 초과한 경우에는 그 초과일수에 대하여 정액의 10분의 1에 상당한 액을, 30일을 초과한 경에는 정액의 10분의 2에 상당한 액을, 60일을 초과한 경우에는 그 초과일수에 대하여 정액의 10분의 3에 상당한 금액을 빼고 지급한다.\\n7. 이전비, 가족여비 및 준비금\\n7.1. 이전비의 지급대상', metadata={'source': 'mydata/출장여비규정.txt'}), Document(page_content='외국 근무 중 대표이사의 허가를 받아 한 차례 한정하여 가족을 그 근무지로 불러오거나 본국으로 귀국시킬 때\\n출장 기안 절차 및 정산 절차 추가\\n출장여비 5/9', metadata={'source': 'mydata/출장여비규정.txt'})]\n"
     ]
    }
   ],
   "source": [
    "# 체인 만들고 쿼리 날리기.\n",
    "my_chain = load_qa_with_sources_chain(model, chain_type=\"refine\")\n",
    "\n",
    "#query = \"When did the Star Wars movies come out?\"\n",
    "query = \"국내 출장시 1박 숙박비는 1인당 얼마인가요?\"\n",
    "documents = vectorstore.similarity_search(query)\n",
    "print(f'len(documents):{len(documents)}')\n",
    "print(documents)\n"
   ]
  },
  {
   "cell_type": "code",
   "execution_count": 12,
   "id": "a17f833d-f6db-43f4-ba95-137c5ae856f7",
   "metadata": {},
   "outputs": [],
   "source": [
    "# 아주 오래 걸림.(*1분 이상??)\n",
    "#result = my_chain({\"input_documents\": documents, \"question\": query}, return_only_outputs=True)  # output_text만 출력할때.\n",
    "result = my_chain({\"input_documents\": documents, \"question\": query})  # 모든 출력값 출력\n",
    "\n",
    "#result = with_sources_chain({\"input_documents\": documents, \"question\": query})"
   ]
  },
  {
   "cell_type": "code",
   "execution_count": 13,
   "id": "bcc2944f-c2a4-4218-8b40-fc3e2415ceee",
   "metadata": {},
   "outputs": [
    {
     "data": {
      "text/plain": [
       "{'input_documents': [Document(page_content='7.3. 국내 가족여비\\n7.3.1. 국내 가족여비는 국내 이전자로서 이전할 때 가족(배우자, 본인 및 배우자의 직계존속, 직계비속으로서 생계를 같이 하는 사람을 말한다)을 동반하거나 이전 후에 가족을 불러오는 임직원에게 지급한다.\\n7.3.2. 국내 이전자가 특별한 사정으로 대표이사의 허가를 받아 부임의 명을 받은 날로부터 6개월 이내에 전임지 또는 전임지 외의 지역에서 신임지 외의 지역으로 가족을 이전하는 경우에는 가족여비를 지급한다.(예를 들어 광주로 부임하는데, 가족은 광주광역시 근처의 다른 지방으로 이사하는 경우)\\n7.3.3. 가족여비는 가족 1명마다 다음 각 호의 구분에 따른 금액을 지급한다.\\n가. 운임과 숙박비 : 본인이 여행하는 경우에 지급하는 금액\\n나. 일비와 식비 : 본인이 여행하는 경우에 지급할 수 있는 금액을 기준으로 12세 이상인 가족에 대해서는 3분의 2, 12세 미만의 가족에 대해서는 3분의 1에 상당하는 금액\\n7.4. 해외 가족여비', metadata={'source': 'mydata/출장여비규정.txt'}),\n",
       "  Document(page_content='자를 말한다.\\n15. 원격지 근무\\n15.1. 출장의 정의에 부합하며, 지사, 사무소가 아닌 지역으로, 회사의 비용으로 숙박시설을 마련해 주는 경우를 원격지 근무라고 한다.\\n15.2.원격지 근무자에게는 숙박비, 운임, 일비, 식비, 원격지근무수당을 지급한다.\\n15.3. 숙박비는 숙박시설을 회사에서 제공(숙박시설 임차 및 숙박에 필요한 기본적인 물품 제공)하는 것으로 하여 별도로 지급하지 아니한다.\\n15.4. 숙박에 필요한 기본 물품 구매는 별표9. 원격지 근무시 필요 물품 구매에 따른다.\\n15.5. 운임은 월 4회(왕복 8회), 근무지에서 서울역까지의 KTX요금 혹은 이에 준하는 교통편의(시외버스 혹은 고속버스) 요금을 현금으로 지급한다.\\n15.6. 일비와 식비는 월 4회(왕복 8회)의 이동일을 기준으로 지급한다.\\n15.6. 운임, 일비, 식비의 지급은 프로젝트 투입일을 기준으로 하여, 매월 선지급하는 것을 원칙으로 한다.', metadata={'source': 'mydata/출장여비규정.txt'}),\n",
       "  Document(page_content='6.1.2. 일비는 여행일수에 따라 지급하되, 법인차량을 이용하는 경우에는 일비의 2분의 1을 지급한다.\\n6.1.3. 식비는 여행일수에 따라 지급한다. 다만, 수로여행과 항공여행에 는 따로 식비가 필요한 경우에만 식비를 지급한다.\\n6.2. 동일지역 장기체재 중 일비의 감액\\n6.2.1. 같은 곳에 장기간 체재하는 경우의 일비는 그곳에 도착한 다음날부터 기산하여 15일을 초과한 경우에는 그 초과일수에 대하여 정액의 10분의 1에 상당한 액을, 30일을 초과한 경에는 정액의 10분의 2에 상당한 액을, 60일을 초과한 경우에는 그 초과일수에 대하여 정액의 10분의 3에 상당한 금액을 빼고 지급한다.\\n7. 이전비, 가족여비 및 준비금\\n7.1. 이전비의 지급대상', metadata={'source': 'mydata/출장여비규정.txt'}),\n",
       "  Document(page_content='외국 근무 중 대표이사의 허가를 받아 한 차례 한정하여 가족을 그 근무지로 불러오거나 본국으로 귀국시킬 때\\n출장 기안 절차 및 정산 절차 추가\\n출장여비 5/9', metadata={'source': 'mydata/출장여비규정.txt'})],\n",
       " 'question': '국내 출장시 1박 숙박비는 1인당 얼마인가요?',\n",
       " 'output_text': '\\n\\n국내 출장시 1박 숙박비의 금액은 사람마다 다를 수 있습니다. 7.3.3에서는 본인이 여행하는 경우에 지급하는 운임과 숙박비, 식비 등의 비용이 기준으로 지급됩니다. 또한, 원격지 근무자에게는 일비, 운임, 식비 등 비용이'}"
      ]
     },
     "execution_count": 13,
     "metadata": {},
     "output_type": "execute_result"
    }
   ],
   "source": [
    "result"
   ]
  },
  {
   "cell_type": "code",
   "execution_count": null,
   "id": "c0a5f307-da39-4fcb-8e35-548f6442f320",
   "metadata": {},
   "outputs": [],
   "source": []
  }
 ],
 "metadata": {
  "kernelspec": {
   "display_name": "Python 3 (ipykernel)",
   "language": "python",
   "name": "python3"
  },
  "language_info": {
   "codemirror_mode": {
    "name": "ipython",
    "version": 3
   },
   "file_extension": ".py",
   "mimetype": "text/x-python",
   "name": "python",
   "nbconvert_exporter": "python",
   "pygments_lexer": "ipython3",
   "version": "3.9.7"
  }
 },
 "nbformat": 4,
 "nbformat_minor": 5
}
