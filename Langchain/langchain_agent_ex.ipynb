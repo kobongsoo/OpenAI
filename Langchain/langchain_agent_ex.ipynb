{
 "cells": [
  {
   "cell_type": "code",
   "execution_count": null,
   "id": "def6d8a2-f25b-4699-a4a9-ddbafd3c5d9f",
   "metadata": {},
   "outputs": [],
   "source": [
    "# Langchain 프레임워크를 활용한 에이전트 예제 1\n",
    "# - 출처 :https://python.langchain.com/en/latest/modules/agents/tools/examples/google_serper.html\n",
    "# - 질문 하면 구굴검색 도구(Google Serper API)를 이용하여 검색된 결과를 gpt를 이용하여 결과를 얻는 예시.\n",
    "# - Google Serper 도구(https://serper.dev/)를 사용하려면 회원가입후 API 키를 발급받아야함.(1000 쿼리 까지는 무료)"
   ]
  },
  {
   "cell_type": "code",
   "execution_count": 7,
   "id": "a2b92c09-488f-4737-bd85-348d4a005abd",
   "metadata": {},
   "outputs": [
    {
     "data": {
      "text/plain": [
       "'52°F'"
      ]
     },
     "execution_count": 7,
     "metadata": {},
     "output_type": "execute_result"
    }
   ],
   "source": [
    "# 구굴 serper 도구 API 키를 이용한 검색 api 사용\n",
    "import os\n",
    "os.environ[\"SERPER_API_KEY\"] = \"xx\"\n",
    "\n",
    "from langchain.utilities import GoogleSerperAPIWrapper\n",
    "search = GoogleSerperAPIWrapper()\n",
    "search.run(\"현재 대한민국 제주도 날씨는?\")\n"
   ]
  },
  {
   "cell_type": "code",
   "execution_count": 5,
   "id": "83b96ef0-ecf7-4426-9a25-4b49d6f5cb33",
   "metadata": {},
   "outputs": [
    {
     "name": "stdout",
     "output_type": "stream",
     "text": [
      "\n",
      "\n",
      "\u001b[1m> Entering new AgentExecutor chain...\u001b[0m\n",
      "\u001b[32;1m\u001b[1;3m Yes.\n",
      "Follow up: What is the departure city in South Korea?\u001b[0m\n",
      "Intermediate answer: \u001b[36;1m\u001b[1;3mDeparture Schedule. Here you can find departure information by airline and city. Passenger · Cargo ... KOREAN AIRLINES. Terminal: T2. Departure Schedule. Here you can find departure information by airline and city. Passenger · Cargo. The information on the homepage is for reference only. Located 48 km (30 mi) west of Seoul, the capital and the largest city of South Korea, Incheon International Airport is the main hub for Korean Air, ... Seoul Incheon International Airport is located 48km (30 miles) west of Seoul. Telephone. +82 1577 2600. AddressJung-gu 272 Gonghang-ro. Incheon City. Find out ... See all routes, airlines and scheduled direct (non-stop) flights from Incheon Intl, Seoul (ICN). Find detailed information for each departure 9 months ahead ... Seoul and Busan are the biggest cities in South Korea, making them popular choices to fly into. Flying into Seoul will give you better access to northern South ... International flights to Seoul will land at nearby Incheon International Airport (IIA) east of Seoul. There are non-stop flights from most capitals in Europe ... With no way to travel to Korea by road or rail, the vast majority of travellers arrive at the gleaming Incheon international airport; often referred to as ... As well as providing international flights, the airline connects some of the most popular cities in South Korea, including Busan, Cheongju, Gwangju, Jeju, and ... Most of those airlines flew to Incheon Airport, Korea's main airport located just outside of Seoul, as well as regional airports, such as Jeju International ...\u001b[0m\u001b[32;1m\u001b[1;3m\n",
      "Follow up: What is the cost of a plane ticket from Seoul to Frankfurt in July?\u001b[0m\n",
      "Intermediate answer: \u001b[36;1m\u001b[1;3mGood to know Low season April High season July Cheapest flight $377 Average price round-trip $1,074\u001b[0m\u001b[32;1m\u001b[1;3mSo the final answer is: $377\u001b[0m\n",
      "\n",
      "\u001b[1m> Finished chain.\u001b[0m\n"
     ]
    },
    {
     "data": {
      "text/plain": [
       "'$377'"
      ]
     },
     "execution_count": 5,
     "metadata": {},
     "output_type": "execute_result"
    }
   ],
   "source": [
    "# langchain과 gpt-3.5 연동해서 검색예시\n",
    "#- 한국어 검색은 잘 안되는 듯...\n",
    "import os\n",
    "os.environ[\"SERPER_API_KEY\"] = \"xx\"\n",
    "os.environ['OPENAI_API_KEY'] = \"xx\"\n",
    "\n",
    "from langchain.utilities import GoogleSerperAPIWrapper\n",
    "from langchain.llms.openai import OpenAI\n",
    "from langchain.agents import initialize_agent, Tool\n",
    "from langchain.agents.agent_types import AgentType   # .agent_typtes로 지정해야 함\n",
    "\n",
    "llm = OpenAI(temperature=0)\n",
    "search = GoogleSerperAPIWrapper()\n",
    "tools = [\n",
    "    Tool(\n",
    "        name=\"Intermediate Answer\",  # 중간답변\n",
    "        func=search.run,\n",
    "        description=\"useful for when you need to ask with search\"   # 검색으로 물어볼때 유용          \n",
    "    )\n",
    "]\n",
    "\n",
    "self_ask_with_search = initialize_agent(tools, llm, agent=AgentType.SELF_ASK_WITH_SEARCH, verbose=True)\n",
    "self_ask_with_search.run(\"What is the cost of a plane ticket from South Korea to Frankfurt in July?\")"
   ]
  },
  {
   "cell_type": "code",
   "execution_count": null,
   "id": "8f4ea763-7211-4c98-bbbc-690f63f455bb",
   "metadata": {},
   "outputs": [],
   "source": []
  }
 ],
 "metadata": {
  "kernelspec": {
   "display_name": "Python 3 (ipykernel)",
   "language": "python",
   "name": "python3"
  },
  "language_info": {
   "codemirror_mode": {
    "name": "ipython",
    "version": 3
   },
   "file_extension": ".py",
   "mimetype": "text/x-python",
   "name": "python",
   "nbconvert_exporter": "python",
   "pygments_lexer": "ipython3",
   "version": "3.9.7"
  }
 },
 "nbformat": 4,
 "nbformat_minor": 5
}
