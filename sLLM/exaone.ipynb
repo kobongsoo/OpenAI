{
 "cells": [
  {
   "cell_type": "code",
   "execution_count": 1,
   "id": "4eba36ef-254c-48cd-9cd0-98a219d59b16",
   "metadata": {},
   "outputs": [
    {
     "name": "stderr",
     "output_type": "stream",
     "text": [
      "/MOCOMSYS/anaconda3/envs/bong/lib/python3.9/site-packages/flash_attn/ops/triton/layer_norm.py:959: FutureWarning: `torch.cuda.amp.custom_fwd(args...)` is deprecated. Please use `torch.amp.custom_fwd(args..., device_type='cuda')` instead.\n",
      "  def forward(\n",
      "/MOCOMSYS/anaconda3/envs/bong/lib/python3.9/site-packages/flash_attn/ops/triton/layer_norm.py:1018: FutureWarning: `torch.cuda.amp.custom_bwd(args...)` is deprecated. Please use `torch.amp.custom_bwd(args..., device_type='cuda')` instead.\n",
      "  def backward(ctx, dout, *args):\n"
     ]
    },
    {
     "data": {
      "application/vnd.jupyter.widget-view+json": {
       "model_id": "f5a05a73d58c461d84089330eafc52f8",
       "version_major": 2,
       "version_minor": 0
      },
      "text/plain": [
       "Loading checkpoint shards:   0%|          | 0/4 [00:00<?, ?it/s]"
      ]
     },
     "metadata": {},
     "output_type": "display_data"
    }
   ],
   "source": [
    "import torch\n",
    "from transformers import AutoModelForCausalLM, AutoTokenizer\n",
    "\n",
    "# LGAI-EXAONE/EXAONE-3.0-7.8B-Instruct\n",
    "model_path = \"../data11/model/LLM/EXAONE-3.0-7.8B-Instruct\"\n",
    "\n",
    "model = AutoModelForCausalLM.from_pretrained(\n",
    "    model_path,\n",
    "    torch_dtype=torch.bfloat16,\n",
    "    trust_remote_code=True,\n",
    "    device_map=\"auto\"\n",
    ")\n",
    "tokenizer = AutoTokenizer.from_pretrained(model_path)"
   ]
  },
  {
   "cell_type": "code",
   "execution_count": null,
   "id": "a5ae6386-826e-4ef5-9a74-fb25d8c4124c",
   "metadata": {},
   "outputs": [],
   "source": [
    "'''\n",
    "# 모델 저장\n",
    "save_directory = \"../data11/model/LLM/EXAONE-3.0-7.8B-Instruct\"  # Specify your directory\n",
    "\n",
    "# Save the model and tokenizer to a specified directory\n",
    "if not os.path.exists(save_directory):\n",
    "    os.makedirs(save_directory)\n",
    "    \n",
    "model.save_pretrained(save_directory)\n",
    "tokenizer.save_pretrained(save_directory)\n",
    "'''"
   ]
  },
  {
   "cell_type": "code",
   "execution_count": 2,
   "id": "f0c97970-a106-49be-a33a-5c13aa6cb637",
   "metadata": {},
   "outputs": [],
   "source": [
    "def parse_sllm_output(sllm_output):\n",
    "    # Split the output into lines\n",
    "    lines = sllm_output.split(\"\\n\")\n",
    "    \n",
    "    # Initialize variables for question and answer\n",
    "    question = \"\"\n",
    "    answer = \"\"\n",
    "    is_answer = False\n",
    "    \n",
    "    # Parse the lines to extract Q and A\n",
    "    for line in lines:\n",
    "        if line.startswith(\"[|user|]\"):\n",
    "            question = line.replace(\"[|user|]\", \"\").strip()\n",
    "        elif line.startswith(\"[|assistant|]\"):\n",
    "            is_answer = True\n",
    "            answer = line.replace(\"[|assistant|]\", \"\").strip()\n",
    "        elif is_answer:\n",
    "            answer += \"\\n\" + line.strip()\n",
    "    \n",
    "    # Remove [|endofturn|] from the answer if it exists\n",
    "    answer = answer.replace(\"[|endofturn|]\", \"\").strip()\n",
    "    \n",
    "    # Return the parsed Q and A\n",
    "    return {answer}\n",
    "    #return f\"Q: {question}\\nA: {answer}\""
   ]
  },
  {
   "cell_type": "code",
   "execution_count": 3,
   "id": "34b87a74-3bfb-4200-bde1-c5db77fe6fa3",
   "metadata": {},
   "outputs": [],
   "source": [
    "context = '''\n",
    "[동해종합기술][원격지원][20200219] ARcBridge2013 관련 3가지 문제\n",
    "\n",
    "Q:\n",
    "- ARcBridge2013 에서 구조계산서 출력할때, “C:\\Program Files (x86)\\한길아이티\\ARcBridge2013\\\\_tmpw0.wmf 파일이 존재하지 않거나 사용중입니다.” 에러 발생\n",
    "\n",
    "A:\n",
    "- 차단 로그 없음\n",
    "- EZis-C 완전종료 해도 마찬가지\n",
    "- 프로그램 개발사 쪽에 문의해본다고 함.\n",
    "\n",
    "Q:\n",
    "- ARcBridge2013 SAP2000 출력 누르면, “Unable Start .xxxxx” 에러가 뜬다.\n",
    "\n",
    "A:\n",
    "- 차단 로그 없음\n",
    "- EZis-C 완전종료 해도 마찬가지\n",
    "- 프로그램 개발사 쪽에 문의해본다고 함.\n",
    "\n",
    "Q:\n",
    "- AEdit.exe 에서 파일 열기 시, 로컬보안드라이브가 안보인다.\n",
    "\n",
    "A:\n",
    "- 보안프로그램으로 등록해줌.\n",
    "\n",
    "\n",
    "[삼성경제연구소][전화통화][20200527] 나스카 DRM (NSCHIM.EXE) 보안 프로그램 등록\n",
    "\n",
    "Q:\n",
    "보안위반내역에 나스카 DRM (NSCHIM.EXE) 의 차단 로그가 많이 쌓인다. 보안 프로그램으로 등록해도 될지.. 지난번에 NSCHILL.EXE 는 등록했는데..\n",
    "\n",
    "A:\n",
    "등록해도 된다. DRM 프로그램중 유출될 일이 없는 UI 없는 프로그램은 보안 프로그램(일반드라이브 차단 안함)으로 해도 된다.\n",
    "\n",
    "\n",
    "[모코엠시스][받은메일][20201012] [D2엔지니어링] 이슈사항 공유\n",
    "\n",
    "Q:\n",
    "IRONCAD, ZWCAD 가 제대로 동작 하지 않습니다.\n",
    "- 보안프로그램 등록은 하였습니다.\n",
    "- 로컬 보안디스크에는 저장되지만 M드라이브에는 저장되지 않았습니다.\n",
    "이 부분은 SHARE_FILE_INFO의 LFILE_EXT가 32자를 넘어서 발생한 오류로 보여, VARCHAR 64로 변경 후 테스트 예정입니다.\n",
    "- M드라이브에서 CAD파일 열 때 파일이 열리지 않고 행이 발생(ZWCAD)\n",
    "- CAD파일 용량은 20MB이하 파일로 테스트 하였습니다.\n",
    "\n",
    "A:\n",
    "- ZWCAD 관련하여, 로컬보안드라이브에 ZWCAD 파일은 열리는데, 엠드라이브 똑같은 파일은 열면, 행이 걸린다.\n",
    "- 차단로그에는 ZwUpdHost.exe 파일이 차단된다. ZwUpdHost.exe 를 보안프로그램으로 등록해주어야 될듯 싶다.\n",
    "- 엠드라이브 ZWCAD 파일 열기시 행 걸리는 문제는 위 보안프로그램등록과는 별개로 파악이 필요함.\n",
    "'''\n",
    "\n",
    "query = '''\n",
    "DRM 보안프로그램으로 등록해도 되나요?\n",
    "'''\n",
    "\n",
    "prompt = f'''\n",
    "다음 검색된 내용을 가지고 질문에 답하십시오.\n",
    "답을 모르면 모른다고만 하십시오.\n",
    "최대 3개의 문장을 사용하고 간결하게 답변하세요.\n",
    "내용:{context}\n",
    "Q: {query}\n",
    "A:\n",
    "'''"
   ]
  },
  {
   "cell_type": "code",
   "execution_count": null,
   "id": "f61223c6-229e-4d25-ab33-c1102be54e71",
   "metadata": {},
   "outputs": [],
   "source": [
    "prompt"
   ]
  },
  {
   "cell_type": "code",
   "execution_count": 4,
   "id": "cabb6a4b-2426-4029-9f7c-b315aa786cbc",
   "metadata": {},
   "outputs": [
    {
     "name": "stdout",
     "output_type": "stream",
     "text": [
      "*시간 : 2.5853683948516846\n",
      "{'등록해도 됩니다. DRM 프로그램 중 유출될 일이 없는 UI 없는 프로그램은 보안 프로그램으로 등록해도 안전합니다. 단, 차단 로그가 많이 쌓이는 경우 해당 프로그램을 보안 프로그램으로 등록해도 문제가 해결되지 않을 수 있으니 추가 확인이 필요합니다.'}\n"
     ]
    }
   ],
   "source": [
    "import time\n",
    "\n",
    "start_time = time.time()  # 시작 시간 기록\n",
    "\n",
    "# Choose your prompt\n",
    "#prompt = \"Explain who you are\"  # English example\n",
    "#prompt = \"대한민국에 모코엠시스 it 회사는 어떤 회사인가요?\"   # Korean example\n",
    "\n",
    "# Add temperature\n",
    "\n",
    "messages = [\n",
    "    {\"role\": \"system\", \n",
    "     \"content\": \"You are EXAONE model from LG AI Research, a helpful assistant.\"},\n",
    "    {\"role\": \"user\", \"content\": prompt}\n",
    "]\n",
    "input_ids = tokenizer.apply_chat_template(\n",
    "    messages,\n",
    "    tokenize=True,\n",
    "    add_generation_prompt=True,\n",
    "    return_tensors=\"pt\"\n",
    ")\n",
    "\n",
    "output = model.generate(\n",
    "    input_ids.to(\"cuda\"),\n",
    "    eos_token_id=tokenizer.eos_token_id,\n",
    "    max_new_tokens=1024,\n",
    "    temperature=1  \n",
    ")\n",
    "\n",
    "#print(tokenizer.decode(output[0]))\n",
    "\n",
    "# Parse the output\n",
    "parsed_output = parse_sllm_output(tokenizer.decode(output[0]))\n",
    "\n",
    "end_time = time.time()  # 종료 시간 기록\n",
    "execution_time = end_time - start_time  # 실행 시간 계산\n",
    "    \n",
    "# Print the result\n",
    "print(f'*시간 : {execution_time}')\n",
    "print(parsed_output)\n"
   ]
  },
  {
   "cell_type": "code",
   "execution_count": null,
   "id": "820a5de1-f095-42de-9a55-2a817d1104c7",
   "metadata": {},
   "outputs": [],
   "source": []
  }
 ],
 "metadata": {
  "kernelspec": {
   "display_name": "Python 3 (ipykernel)",
   "language": "python",
   "name": "python3"
  },
  "language_info": {
   "codemirror_mode": {
    "name": "ipython",
    "version": 3
   },
   "file_extension": ".py",
   "mimetype": "text/x-python",
   "name": "python",
   "nbconvert_exporter": "python",
   "pygments_lexer": "ipython3",
   "version": "3.9.7"
  }
 },
 "nbformat": 4,
 "nbformat_minor": 5
}
