{
 "cells": [
  {
   "cell_type": "code",
   "execution_count": 1,
   "id": "d471edf0-bdba-47e4-ba8c-f1849a998d32",
   "metadata": {},
   "outputs": [],
   "source": [
    "# https://console.groq.com/\n",
    "# https://wikidocs.net/259655\n",
    "# !pip install langchain_groq\n",
    "\n",
    "from langchain_groq import ChatGroq\n",
    "from langchain_core.prompts import ChatPromptTemplate\n",
    "\n",
    "api_key = \"gsk_xxxx\" # https://console.groq.com/ 에서 api_key 발급\n",
    "\n",
    "# ChatGroq 모델 초기화\n",
    "llm = ChatGroq(\n",
    "    model=\"gemma2-9b-it\",\n",
    "    temperature=0.5,\n",
    "    max_tokens=300,\n",
    "    api_key=api_key\n",
    ")"
   ]
  },
  {
   "cell_type": "code",
   "execution_count": 2,
   "id": "3ef9a9db-a288-48b4-952a-11b948388d42",
   "metadata": {},
   "outputs": [],
   "source": [
    "# 프롬프트 템플릿 정의\n",
    "\n",
    "prompt = ChatPromptTemplate.from_messages([\n",
    "    (\"system\", \"당신은 친절하고 유익한 AI 조수입니다.\"),\n",
    "    (\"human\", \"다음 검색된 내용을 가지고 질문에 답하십시오.\\n답을 모르면 모른다고만 하십시오.\\n최대 3개의 문장을 사용하고 간결하게 답변하세요.\\n내용:{context}\\nQ: {query}\\nA:\")\n",
    "])"
   ]
  },
  {
   "cell_type": "code",
   "execution_count": null,
   "id": "714af1e8-bf51-4cf4-b471-15c56a170210",
   "metadata": {},
   "outputs": [],
   "source": [
    "prompt"
   ]
  },
  {
   "cell_type": "code",
   "execution_count": 3,
   "id": "be713d9a-dcd0-4702-81f8-3092e7e0dd32",
   "metadata": {},
   "outputs": [],
   "source": [
    "# Chain 생성\n",
    "chain = prompt | llm"
   ]
  },
  {
   "cell_type": "code",
   "execution_count": 4,
   "id": "0fc6ca59-3f75-4c62-b56a-5157da3e2cad",
   "metadata": {},
   "outputs": [],
   "source": [
    "context = '''\n",
    "[동해종합기술][원격지원][20200219] ARcBridge2013 관련 3가지 문제\n",
    "\n",
    "Q:\n",
    "- ARcBridge2013 에서 구조계산서 출력할때, “C:\\Program Files (x86)\\한길아이티\\ARcBridge2013\\\\_tmpw0.wmf 파일이 존재하지 않거나 사용중입니다.” 에러 발생\n",
    "\n",
    "A:\n",
    "- 차단 로그 없음\n",
    "- EZis-C 완전종료 해도 마찬가지\n",
    "- 프로그램 개발사 쪽에 문의해본다고 함.\n",
    "\n",
    "Q:\n",
    "- ARcBridge2013 SAP2000 출력 누르면, “Unable Start .xxxxx” 에러가 뜬다.\n",
    "\n",
    "A:\n",
    "- 차단 로그 없음\n",
    "- EZis-C 완전종료 해도 마찬가지\n",
    "- 프로그램 개발사 쪽에 문의해본다고 함.\n",
    "\n",
    "Q:\n",
    "- AEdit.exe 에서 파일 열기 시, 로컬보안드라이브가 안보인다.\n",
    "\n",
    "A:\n",
    "- 보안프로그램으로 등록해줌.\n",
    "\n",
    "\n",
    "[삼성경제연구소][전화통화][20200527] 나스카 DRM (NSCHIM.EXE) 보안 프로그램 등록\n",
    "\n",
    "Q:\n",
    "보안위반내역에 나스카 DRM (NSCHIM.EXE) 의 차단 로그가 많이 쌓인다. 보안 프로그램으로 등록해도 될지.. 지난번에 NSCHILL.EXE 는 등록했는데..\n",
    "\n",
    "A:\n",
    "등록해도 된다. DRM 프로그램중 유출될 일이 없는 UI 없는 프로그램은 보안 프로그램(일반드라이브 차단 안함)으로 해도 된다.\n",
    "\n",
    "\n",
    "[모코엠시스][받은메일][20201012] [D2엔지니어링] 이슈사항 공유\n",
    "\n",
    "Q:\n",
    "IRONCAD, ZWCAD 가 제대로 동작 하지 않습니다.\n",
    "- 보안프로그램 등록은 하였습니다.\n",
    "- 로컬 보안디스크에는 저장되지만 M드라이브에는 저장되지 않았습니다.\n",
    "이 부분은 SHARE_FILE_INFO의 LFILE_EXT가 32자를 넘어서 발생한 오류로 보여, VARCHAR 64로 변경 후 테스트 예정입니다.\n",
    "- M드라이브에서 CAD파일 열 때 파일이 열리지 않고 행이 발생(ZWCAD)\n",
    "- CAD파일 용량은 20MB이하 파일로 테스트 하였습니다.\n",
    "\n",
    "A:\n",
    "- ZWCAD 관련하여, 로컬보안드라이브에 ZWCAD 파일은 열리는데, 엠드라이브 똑같은 파일은 열면, 행이 걸린다.\n",
    "- 차단로그에는 ZwUpdHost.exe 파일이 차단된다. ZwUpdHost.exe 를 보안프로그램으로 등록해주어야 될듯 싶다.\n",
    "- 엠드라이브 ZWCAD 파일 열기시 행 걸리는 문제는 위 보안프로그램등록과는 별개로 파악이 필요함.\n",
    "'''\n",
    "\n",
    "query = '''\n",
    "DRM 보안프로그램으로 등록해도 되나요?\n",
    "'''"
   ]
  },
  {
   "cell_type": "code",
   "execution_count": 6,
   "id": "8e56e073-40a4-406f-9143-1ee69f372a8f",
   "metadata": {},
   "outputs": [
    {
     "name": "stdout",
     "output_type": "stream",
     "text": [
      "질문: \n",
      "DRM 보안프로그램으로 등록해도 되나요?\n",
      "\n",
      "답변: DRM 프로그램 중 유출될 일이 없는 UI 없는 프로그램은 보안 프로그램으로 등록해도 됩니다.  \n",
      "\n",
      "\n",
      "*시간 : 0.31824564933776855\n"
     ]
    }
   ],
   "source": [
    "import time\n",
    "\n",
    "start_time = time.time()  # 시작 시간 기록\n",
    "\n",
    "response = chain.invoke({\"context\": context, \"query\": query})\n",
    "print(f\"질문: {query}\")\n",
    "print(f\"답변: {response.content}\\n\")\n",
    "\n",
    "end_time = time.time()  # 종료 시간 기록\n",
    "execution_time = end_time - start_time  # 실행 시간 계산\n",
    "\n",
    "# Print the result\n",
    "print(f'*시간 : {execution_time}')"
   ]
  },
  {
   "cell_type": "code",
   "execution_count": null,
   "id": "104aa1ed-c1ec-4709-b0ae-68a7b24c506a",
   "metadata": {},
   "outputs": [],
   "source": [
    "print(response)"
   ]
  }
 ],
 "metadata": {
  "kernelspec": {
   "display_name": "Python 3 (ipykernel)",
   "language": "python",
   "name": "python3"
  },
  "language_info": {
   "codemirror_mode": {
    "name": "ipython",
    "version": 3
   },
   "file_extension": ".py",
   "mimetype": "text/x-python",
   "name": "python",
   "nbconvert_exporter": "python",
   "pygments_lexer": "ipython3",
   "version": "3.9.7"
  }
 },
 "nbformat": 4,
 "nbformat_minor": 5
}
